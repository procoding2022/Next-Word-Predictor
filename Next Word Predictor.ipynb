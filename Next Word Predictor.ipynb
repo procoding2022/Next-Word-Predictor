{
 "cells": [
  {
   "cell_type": "code",
   "execution_count": 1,
   "id": "733b380a-2fbb-4395-82b4-ca2826e28dcd",
   "metadata": {},
   "outputs": [
    {
     "name": "stderr",
     "output_type": "stream",
     "text": [
      "[nltk_data] Downloading package brown to\n",
      "[nltk_data]     C:\\Users\\HP\\AppData\\Roaming\\nltk_data...\n",
      "[nltk_data]   Package brown is already up-to-date!\n",
      "[nltk_data] Downloading package punkt to\n",
      "[nltk_data]     C:\\Users\\HP\\AppData\\Roaming\\nltk_data...\n",
      "[nltk_data]   Package punkt is already up-to-date!\n"
     ]
    },
    {
     "data": {
      "text/plain": [
       "True"
      ]
     },
     "execution_count": 1,
     "metadata": {},
     "output_type": "execute_result"
    }
   ],
   "source": [
    "import nltk\n",
    "from nltk.tokenize import word_tokenize\n",
    "from nltk.corpus import brown\n",
    "from nltk.probability import FreqDist\n",
    "from nltk.util import bigrams\n",
    "from collections import defaultdict\n",
    "import string\n",
    "\n",
    "nltk.download('brown')\n",
    "nltk.download('punkt')"
   ]
  },
  {
   "cell_type": "code",
   "execution_count": 2,
   "id": "48ab3dcb-96a3-4ded-ad77-f4a21c0e7893",
   "metadata": {},
   "outputs": [],
   "source": [
    "brown_data = brown.sents()\n",
    "\n",
    "def preprocess_data(data):\n",
    "    words = [word.lower() for word in data if word.isalnum()]\n",
    "    return words"
   ]
  },
  {
   "cell_type": "code",
   "execution_count": 3,
   "id": "c1227ca3-9c38-48d9-a628-86fddebaf9bd",
   "metadata": {},
   "outputs": [],
   "source": [
    "def generate_bigrams(data):\n",
    "    bigram_list = list(bigrams(data))\n",
    "    return bigram_list\n",
    "\n",
    "# Creating a dictionary to store the frequency of each bigram\n",
    "def create_freq_dict(bigrams):\n",
    "    freq_dict = defaultdict(int)\n",
    "    for bigram in bigrams:\n",
    "        freq_dict[bigram] += 1\n",
    "    return freq_dict"
   ]
  },
  {
   "cell_type": "code",
   "execution_count": 4,
   "id": "333e4c49-48e3-4d4e-9a9b-d5f5dda9540e",
   "metadata": {},
   "outputs": [],
   "source": [
    "def predict_next_word(input_word, freq_dict, preprocessed_data):\n",
    "    next_word = None\n",
    "    max_prob = 0\n",
    "\n",
    "    bigrams_starting_with_input = [bigram for bigram in freq_dict.keys() if bigram[0] == input_word]\n",
    "    if bigrams_starting_with_input:\n",
    "        total_occurrences = sum(freq_dict[bigram] for bigram in bigrams_starting_with_input)\n",
    "        for bigram in bigrams_starting_with_input:\n",
    "            prob = freq_dict[bigram] / total_occurrences\n",
    "            if prob > max_prob:\n",
    "                max_prob = prob\n",
    "                next_word = bigram[1]\n",
    "    else:\n",
    "        most_common_words = get_most_common_words(preprocessed_data)\n",
    "        if most_common_words:\n",
    "            next_word = most_common_words[0][0]\n",
    "            \n",
    "    return next_word\n",
    "\n",
    "def get_most_common_words(data):\n",
    "    freq_dist = FreqDist(data)\n",
    "    return freq_dist.most_common()"
   ]
  }
 ],
 "metadata": {
  "kernelspec": {
   "display_name": "Python 3 (ipykernel)",
   "language": "python",
   "name": "python3"
  },
  "language_info": {
   "codemirror_mode": {
    "name": "ipython",
    "version": 3
   },
   "file_extension": ".py",
   "mimetype": "text/x-python",
   "name": "python",
   "nbconvert_exporter": "python",
   "pygments_lexer": "ipython3",
   "version": "3.12.2"
  }
 },
 "nbformat": 4,
 "nbformat_minor": 5
}
